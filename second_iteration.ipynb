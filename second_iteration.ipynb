{
 "cells": [
  {
   "cell_type": "code",
   "execution_count": 1,
   "metadata": {},
   "outputs": [],
   "source": [
    "import matplotlib.font_manager\n",
    "\n",
    "system_fonts = matplotlib.font_manager.findSystemFonts(fontpaths=None, fontext='ttf')\n",
    "indexes_to_remove = [17, 34, 44, 166, 174, 175, 178, 186, 263, 297, 317]\n",
    "system_fonts = [font for i, font in enumerate(system_fonts) if i not in indexes_to_remove]"
   ]
  },
  {
   "cell_type": "code",
   "execution_count": 2,
   "metadata": {},
   "outputs": [
    {
     "name": "stdout",
     "output_type": "stream",
     "text": [
      "324\n"
     ]
    }
   ],
   "source": [
    "print(len(system_fonts))"
   ]
  },
  {
   "cell_type": "code",
   "execution_count": 3,
   "metadata": {},
   "outputs": [],
   "source": [
    "from functions import (\n",
    "    create_blank_pdf,\n",
    "    find_optimal_placement,\n",
    "    can_place_image,\n",
    "    save_pdf, \n",
    "    place_image_in_pdf,\n",
    "    create_text_image,\n",
    "    get_all_image_bounding_boxes,\n",
    "    test_image_placement,\n",
    "    is_overlapping,\n",
    "    append_image_to_pdf\n",
    ")"
   ]
  },
  {
   "cell_type": "code",
   "execution_count": null,
   "metadata": {},
   "outputs": [],
   "source": [
    "# Create text image\n",
    "import random\n",
    "import numpy as np\n",
    "from reportlab.lib.pagesizes import letter\n",
    "\n",
    "width, height = int(letter[0]), int(letter[1])\n",
    "\n",
    "text = \"This is sample text for our PDF\"\n",
    "words_per_line = np.random.binomial(n=10, p=0.5, size=1)[0]+3\n",
    "pdf_path = \"text_as_image.pdf\"\n",
    "font_path = random.choice(system_fonts)\n",
    "font_size = np.random.binomial(n=25,p=0.5,size=1)[0]+1\n",
    "text_image, text_info = create_text_image(text, words_per_line=words_per_line, font_path=font_path, font_size=font_size)\n",
    "\n",
    "img, img_info = create_text_image(text)\n",
    "\n",
    "pdf_path = \"output.pdf\"\n",
    "canvas_obj, (page_width, page_height) = create_blank_pdf(pdf_path)\n",
    "x_center, y_center = page_width/2, page_height/2\n",
    "existing_boxes = []\n",
    "if can_place_image(img, x_center, y_center, existing_boxes, page_width, page_height):\n",
    "    place_image_in_pdf(canvas_obj, img, x_center, y_center)\n",
    "    save_pdf(canvas_obj)\n",
    "else:\n",
    "    position = find_optimal_placement(img, existing_boxes, page_width, page_height)\n",
    "    if position:\n",
    "        x_center, y_center = position\n",
    "        place_image_in_pdf(canvas_obj, img, x_center, y_center)\n",
    "        save_pdf(canvas_obj)\n",
    "    else:\n",
    "        print(\"Cannot place image without overlaps\")"
   ]
  },
  {
   "cell_type": "code",
   "execution_count": null,
   "metadata": {},
   "outputs": [
    {
     "name": "stdout",
     "output_type": "stream",
     "text": [
      "C:\\Windows\\Fonts\\ebrima.ttf\n",
      "Created text image with dimensions: 207×66\n"
     ]
    },
    {
     "ename": "IndexError",
     "evalue": "page 0 not in document",
     "output_type": "error",
     "traceback": [
      "\u001b[1;31m---------------------------------------------------------------------------\u001b[0m",
      "\u001b[1;31mIndexError\u001b[0m                                Traceback (most recent call last)",
      "\u001b[1;32m~\\AppData\\Local\\Temp\\ipykernel_12864\\3719488004.py\u001b[0m in \u001b[0;36m?\u001b[1;34m()\u001b[0m\n\u001b[0;32m     16\u001b[0m     \u001b[0mcreate_blank_pdf\u001b[0m\u001b[1;33m(\u001b[0m\u001b[0mpdf_path\u001b[0m\u001b[1;33m)\u001b[0m\u001b[1;33m\u001b[0m\u001b[1;33m\u001b[0m\u001b[0m\n\u001b[0;32m     17\u001b[0m     \u001b[0mtext_image\u001b[0m\u001b[1;33m,\u001b[0m \u001b[0mtext_info\u001b[0m \u001b[1;33m=\u001b[0m \u001b[0mcreate_text_image\u001b[0m\u001b[1;33m(\u001b[0m\u001b[0mtext\u001b[0m\u001b[1;33m,\u001b[0m \u001b[0mwords_per_line\u001b[0m\u001b[1;33m=\u001b[0m\u001b[0mwords_per_line\u001b[0m\u001b[1;33m,\u001b[0m \u001b[0mfont_path\u001b[0m\u001b[1;33m=\u001b[0m\u001b[0mfont_path\u001b[0m\u001b[1;33m,\u001b[0m \u001b[0mfont_size\u001b[0m\u001b[1;33m=\u001b[0m\u001b[0mfont_size\u001b[0m\u001b[1;33m)\u001b[0m\u001b[1;33m\u001b[0m\u001b[1;33m\u001b[0m\u001b[0m\n\u001b[0;32m     18\u001b[0m     \u001b[0mx_centroid\u001b[0m\u001b[1;33m,\u001b[0m \u001b[0my_centroid\u001b[0m \u001b[1;33m=\u001b[0m \u001b[0mfind_optimal_placement\u001b[0m\u001b[1;33m(\u001b[0m\u001b[0mtext_image\u001b[0m\u001b[1;33m,\u001b[0m \u001b[1;33m[\u001b[0m\u001b[1;33m]\u001b[0m\u001b[1;33m,\u001b[0m \u001b[0mwidth\u001b[0m\u001b[1;33m,\u001b[0m \u001b[0mheight\u001b[0m\u001b[1;33m)\u001b[0m\u001b[1;33m\u001b[0m\u001b[1;33m\u001b[0m\u001b[0m\n\u001b[0;32m     19\u001b[0m     \u001b[0mprint\u001b[0m\u001b[1;33m(\u001b[0m\u001b[1;33mf\"\u001b[0m\u001b[1;33mCreated text image with dimensions: \u001b[0m\u001b[1;33m{\u001b[0m\u001b[0mtext_info\u001b[0m\u001b[1;33m[\u001b[0m\u001b[1;34m'image_width'\u001b[0m\u001b[1;33m]\u001b[0m\u001b[1;33m}\u001b[0m\u001b[1;33m×\u001b[0m\u001b[1;33m{\u001b[0m\u001b[0mtext_info\u001b[0m\u001b[1;33m[\u001b[0m\u001b[1;34m'image_height'\u001b[0m\u001b[1;33m]\u001b[0m\u001b[1;33m}\u001b[0m\u001b[1;33m\"\u001b[0m\u001b[1;33m)\u001b[0m\u001b[1;33m\u001b[0m\u001b[1;33m\u001b[0m\u001b[0m\n\u001b[1;32m---> 20\u001b[1;33m     \u001b[0mimage_placement\u001b[0m \u001b[1;33m=\u001b[0m \u001b[0mappend_image_to_pdf\u001b[0m\u001b[1;33m(\u001b[0m\u001b[0mpdf_path\u001b[0m\u001b[1;33m,\u001b[0m \u001b[0mtext_image\u001b[0m\u001b[1;33m,\u001b[0m \u001b[0mx_centroid\u001b[0m\u001b[1;33m,\u001b[0m \u001b[0my_centroid\u001b[0m\u001b[1;33m)\u001b[0m\u001b[1;33m\u001b[0m\u001b[1;33m\u001b[0m\u001b[0m\n\u001b[0m\u001b[0;32m     21\u001b[0m     \u001b[0mprint\u001b[0m\u001b[1;33m(\u001b[0m\u001b[1;33mf\"\u001b[0m\u001b[1;33mCreated PDF with text image positioned at centroid (\u001b[0m\u001b[1;33m{\u001b[0m\u001b[0mx_centroid\u001b[0m\u001b[1;33m}\u001b[0m\u001b[1;33m, \u001b[0m\u001b[1;33m{\u001b[0m\u001b[0my_centroid\u001b[0m\u001b[1;33m}\u001b[0m\u001b[1;33m)\u001b[0m\u001b[1;33m\"\u001b[0m\u001b[1;33m)\u001b[0m\u001b[1;33m\u001b[0m\u001b[1;33m\u001b[0m\u001b[0m\n\u001b[0;32m     22\u001b[0m     \u001b[0mbboxes\u001b[0m \u001b[1;33m=\u001b[0m \u001b[0mget_all_image_bounding_boxes\u001b[0m\u001b[1;33m(\u001b[0m\u001b[0mpdf_path\u001b[0m\u001b[1;33m)\u001b[0m\u001b[1;33m\u001b[0m\u001b[1;33m\u001b[0m\u001b[0m\n\u001b[0;32m     23\u001b[0m     \u001b[1;32mif\u001b[0m \u001b[0mbboxes\u001b[0m\u001b[1;33m:\u001b[0m\u001b[1;33m\u001b[0m\u001b[1;33m\u001b[0m\u001b[0m\n",
      "\u001b[1;32mc:\\Users\\axeld\\Desktop\\nueva_work\\ocrword_bench\\functions.py\u001b[0m in \u001b[0;36m?\u001b[1;34m(pdf_path, image, x_centroid, y_centroid)\u001b[0m\n\u001b[0;32m    354\u001b[0m     \u001b[0mimage\u001b[0m\u001b[1;33m.\u001b[0m\u001b[0msave\u001b[0m\u001b[1;33m(\u001b[0m\u001b[0mimg_bytes\u001b[0m\u001b[1;33m,\u001b[0m \u001b[0mformat\u001b[0m\u001b[1;33m=\u001b[0m\u001b[1;34m'PNG'\u001b[0m\u001b[1;33m)\u001b[0m\u001b[1;33m\u001b[0m\u001b[1;33m\u001b[0m\u001b[0m\n\u001b[0;32m    355\u001b[0m     \u001b[0mimg_bytes\u001b[0m\u001b[1;33m.\u001b[0m\u001b[0mseek\u001b[0m\u001b[1;33m(\u001b[0m\u001b[1;36m0\u001b[0m\u001b[1;33m)\u001b[0m\u001b[1;33m\u001b[0m\u001b[1;33m\u001b[0m\u001b[0m\n\u001b[0;32m    356\u001b[0m \u001b[1;33m\u001b[0m\u001b[0m\n\u001b[0;32m    357\u001b[0m     \u001b[0mdoc\u001b[0m \u001b[1;33m=\u001b[0m \u001b[0mfitz\u001b[0m\u001b[1;33m.\u001b[0m\u001b[0mopen\u001b[0m\u001b[1;33m(\u001b[0m\u001b[0mpdf_path\u001b[0m\u001b[1;33m)\u001b[0m\u001b[1;33m\u001b[0m\u001b[1;33m\u001b[0m\u001b[0m\n\u001b[1;32m--> 358\u001b[1;33m     \u001b[0mpage\u001b[0m \u001b[1;33m=\u001b[0m \u001b[0mdoc\u001b[0m\u001b[1;33m[\u001b[0m\u001b[1;36m0\u001b[0m\u001b[1;33m]\u001b[0m\u001b[1;33m\u001b[0m\u001b[1;33m\u001b[0m\u001b[0m\n\u001b[0m\u001b[0;32m    359\u001b[0m \u001b[1;33m\u001b[0m\u001b[0m\n\u001b[0;32m    360\u001b[0m     \u001b[0mimg_width\u001b[0m\u001b[1;33m,\u001b[0m \u001b[0mimg_height\u001b[0m \u001b[1;33m=\u001b[0m \u001b[0mimage\u001b[0m\u001b[1;33m.\u001b[0m\u001b[0msize\u001b[0m\u001b[1;33m\u001b[0m\u001b[1;33m\u001b[0m\u001b[0m\n\u001b[0;32m    361\u001b[0m     \u001b[0mx_pos\u001b[0m \u001b[1;33m=\u001b[0m \u001b[0mx_centroid\u001b[0m \u001b[1;33m-\u001b[0m \u001b[1;33m(\u001b[0m\u001b[0mimg_width\u001b[0m \u001b[1;33m/\u001b[0m \u001b[1;36m2\u001b[0m\u001b[1;33m)\u001b[0m\u001b[1;33m\u001b[0m\u001b[1;33m\u001b[0m\u001b[0m\n",
      "\u001b[1;32mc:\\Users\\axeld\\AppData\\Local\\Programs\\Python\\Python312\\Lib\\site-packages\\pymupdf\\__init__.py\u001b[0m in \u001b[0;36m?\u001b[1;34m(self, i)\u001b[0m\n\u001b[0;32m   2874\u001b[0m             \u001b[1;32mreturn\u001b[0m \u001b[1;33m[\u001b[0m\u001b[0mself\u001b[0m\u001b[1;33m[\u001b[0m\u001b[0mj\u001b[0m\u001b[1;33m]\u001b[0m \u001b[1;32mfor\u001b[0m \u001b[0mj\u001b[0m \u001b[1;32min\u001b[0m \u001b[0mrange\u001b[0m\u001b[1;33m(\u001b[0m\u001b[1;33m*\u001b[0m\u001b[0mi\u001b[0m\u001b[1;33m.\u001b[0m\u001b[0mindices\u001b[0m\u001b[1;33m(\u001b[0m\u001b[0mlen\u001b[0m\u001b[1;33m(\u001b[0m\u001b[0mself\u001b[0m\u001b[1;33m)\u001b[0m\u001b[1;33m)\u001b[0m\u001b[1;33m)\u001b[0m\u001b[1;33m]\u001b[0m\u001b[1;33m\u001b[0m\u001b[1;33m\u001b[0m\u001b[0m\n\u001b[0;32m   2875\u001b[0m         assert isinstance(i, int) or (isinstance(i, tuple) and len(i) == 2 and all(isinstance(x, int) for x in i)), \\\n\u001b[0;32m   2876\u001b[0m                 \u001b[1;33mf'\u001b[0m\u001b[1;33mInvalid item number: \u001b[0m\u001b[1;33m{\u001b[0m\u001b[0mi\u001b[0m\u001b[1;33m=\u001b[0m\u001b[1;33m}\u001b[0m\u001b[1;33m.\u001b[0m\u001b[1;33m'\u001b[0m\u001b[1;33m\u001b[0m\u001b[1;33m\u001b[0m\u001b[0m\n\u001b[0;32m   2877\u001b[0m         \u001b[1;32mif\u001b[0m \u001b[0mi\u001b[0m \u001b[1;32mnot\u001b[0m \u001b[1;32min\u001b[0m \u001b[0mself\u001b[0m\u001b[1;33m:\u001b[0m\u001b[1;33m\u001b[0m\u001b[1;33m\u001b[0m\u001b[0m\n\u001b[1;32m-> 2878\u001b[1;33m             \u001b[1;32mraise\u001b[0m \u001b[0mIndexError\u001b[0m\u001b[1;33m(\u001b[0m\u001b[1;33mf\"\u001b[0m\u001b[1;33mpage \u001b[0m\u001b[1;33m{\u001b[0m\u001b[0mi\u001b[0m\u001b[1;33m}\u001b[0m\u001b[1;33m not in document\u001b[0m\u001b[1;33m\"\u001b[0m\u001b[1;33m)\u001b[0m\u001b[1;33m\u001b[0m\u001b[1;33m\u001b[0m\u001b[0m\n\u001b[0m\u001b[0;32m   2879\u001b[0m         \u001b[1;32mreturn\u001b[0m \u001b[0mself\u001b[0m\u001b[1;33m.\u001b[0m\u001b[0mload_page\u001b[0m\u001b[1;33m(\u001b[0m\u001b[0mi\u001b[0m\u001b[1;33m)\u001b[0m\u001b[1;33m\u001b[0m\u001b[1;33m\u001b[0m\u001b[0m\n",
      "\u001b[1;31mIndexError\u001b[0m: page 0 not in document"
     ]
    }
   ],
   "source": [
    "\n",
    "\n",
    "if __name__ == \"__main__\":\n",
    "    text = \"roses are red, violets are blue, and so are you\"\n",
    "    #x_centroid = random.randint(1, width)\n",
    "    #y_centroid = random.randint(1, height)\n",
    "    words_per_line = np.random.binomial(n=10, p=0.5, size=1)[0]+3\n",
    "    pdf_path = \"text_as_image.pdf\"\n",
    "    font_path = random.choice(system_fonts)\n",
    "    font_size = np.random.binomial(n=25,p=0.5,size=1)[0]+1\n",
    "    create_blank_pdf(pdf_path)\n",
    "    text_image, text_info = create_text_image(text, words_per_line=words_per_line, font_path=font_path, font_size=font_size)\n",
    "    x_centroid, y_centroid = find_optimal_placement(text_image, [], width, height)\n",
    "    print(f\"Created text image with dimensions: {text_info['image_width']}×{text_info['image_height']}\")\n",
    "    image_placement = append_image_to_pdf(pdf_path, text_image, x_centroid, y_centroid)\n",
    "    print(f\"Created PDF with text image positioned at centroid ({x_centroid}, {y_centroid})\")\n",
    "    bboxes = get_all_image_bounding_boxes(pdf_path)\n",
    "    if bboxes:\n",
    "        bbox = bboxes[0]\n",
    "        print(\"\\nImage bounding box in PDF:\")\n",
    "        print(f\"Bottom-left: ({bbox['x0']:.2f}, {bbox['y0']:.2f})\")\n",
    "        print(f\"Top-right: ({bbox['x1']:.2f}, {bbox['y1']:.2f})\")\n",
    "        print(f\"Width × Height: {bbox['width']:.2f} × {bbox['height']:.2f}\")\n",
    "        print(f\"Centroid: ({bbox['centroid_x']:.2f}, {bbox['centroid_y']:.2f})\")\n",
    "    else:\n",
    "        print(\"Image not found in the PDF.\")"
   ]
  },
  {
   "cell_type": "code",
   "execution_count": 5,
   "metadata": {},
   "outputs": [
    {
     "ename": "TypeError",
     "evalue": "test_image_placement() takes 3 positional arguments but 4 were given",
     "output_type": "error",
     "traceback": [
      "\u001b[1;31m---------------------------------------------------------------------------\u001b[0m",
      "\u001b[1;31mTypeError\u001b[0m                                 Traceback (most recent call last)",
      "Cell \u001b[1;32mIn[5], line 13\u001b[0m\n\u001b[0;32m     11\u001b[0m new_y_centroid \u001b[38;5;241m=\u001b[39m random\u001b[38;5;241m.\u001b[39mrandint(\u001b[38;5;241m200\u001b[39m, \u001b[38;5;241m600\u001b[39m)\n\u001b[0;32m     12\u001b[0m new_text_image, new_text_info \u001b[38;5;241m=\u001b[39m create_text_image(new_text, words_per_line\u001b[38;5;241m=\u001b[39mnew_words_per_line, font_path\u001b[38;5;241m=\u001b[39mnew_font_path, font_size\u001b[38;5;241m=\u001b[39mnew_font_size)\n\u001b[1;32m---> 13\u001b[0m new_bbox \u001b[38;5;241m=\u001b[39m \u001b[43mtest_image_placement\u001b[49m\u001b[43m(\u001b[49m\u001b[43mpdf_path\u001b[49m\u001b[43m,\u001b[49m\u001b[43m \u001b[49m\u001b[43mnew_text_image\u001b[49m\u001b[43m,\u001b[49m\u001b[43m \u001b[49m\u001b[43mnew_x_centroid\u001b[49m\u001b[43m,\u001b[49m\u001b[43m \u001b[49m\u001b[43mnew_y_centroid\u001b[49m\u001b[43m)\u001b[49m\n\u001b[0;32m     14\u001b[0m \u001b[38;5;28;01mif\u001b[39;00m \u001b[38;5;129;01mnot\u001b[39;00m is_overlapping(bbox, new_bbox):\n\u001b[0;32m     15\u001b[0m     append_image_to_pdf(pdf_path, new_text_image, new_x_centroid, new_y_centroid)\n",
      "\u001b[1;31mTypeError\u001b[0m: test_image_placement() takes 3 positional arguments but 4 were given"
     ]
    }
   ],
   "source": [
    "new_text = \"Marroons are cool and GPT is fun\"\n",
    "max_retries = 15\n",
    "retry_count = 0\n",
    "new_bbox = None\n",
    "\n",
    "while retry_count < max_retries:\n",
    "    new_words_per_line = np.random.binomial(n=10, p=0.5, size=1)[0]+3\n",
    "    new_font_path = random.choice(system_fonts)\n",
    "    new_font_size = np.random.binomial(n=25,p=0.5,size=1)[0]+1\n",
    "    new_x_centroid = random.randint(150, 450)\n",
    "    new_y_centroid = random.randint(200, 600)\n",
    "    new_text_image, new_text_info = create_text_image(new_text, words_per_line=new_words_per_line, font_path=new_font_path, font_size=new_font_size)\n",
    "    new_bbox = test_image_placement(pdf_path, new_text_image, new_x_centroid, new_y_centroid)\n",
    "    if not is_overlapping(bbox, new_bbox):\n",
    "        append_image_to_pdf(pdf_path, new_text_image, new_x_centroid, new_y_centroid)\n",
    "        print(f\"Added new text successfully at ({new_x_centroid}, {new_y_centroid}) with font size {new_font_size}.\")\n",
    "        bbox = get_all_image_bounding_boxes(pdf_path)\n",
    "        if bbox:\n",
    "            print(bbox)\n",
    "        break\n",
    "    \n",
    "    print(f\"Overlap detected, retrying... ({retry_count + 1}/{max_retries})\")\n",
    "    retry_count += 1\n",
    "\n",
    "if retry_count == max_retries:\n",
    "    print(\"Failed to place new text without overlap after multiple attempts.\")"
   ]
  },
  {
   "cell_type": "code",
   "execution_count": null,
   "metadata": {},
   "outputs": [],
   "source": []
  },
  {
   "cell_type": "code",
   "execution_count": null,
   "metadata": {},
   "outputs": [],
   "source": []
  }
 ],
 "metadata": {
  "kernelspec": {
   "display_name": "Python 3",
   "language": "python",
   "name": "python3"
  },
  "language_info": {
   "codemirror_mode": {
    "name": "ipython",
    "version": 3
   },
   "file_extension": ".py",
   "mimetype": "text/x-python",
   "name": "python",
   "nbconvert_exporter": "python",
   "pygments_lexer": "ipython3",
   "version": "3.12.4"
  }
 },
 "nbformat": 4,
 "nbformat_minor": 2
}
