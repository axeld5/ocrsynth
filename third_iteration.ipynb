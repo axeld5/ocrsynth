{
 "cells": [
  {
   "cell_type": "code",
   "execution_count": null,
   "metadata": {},
   "outputs": [],
   "source": [
    "import matplotlib.font_manager\n",
    "\n",
    "system_fonts = matplotlib.font_manager.findSystemFonts(fontpaths=None, fontext='ttf')\n",
    "indexes_to_remove = [17, 34, 44, 166, 174, 175, 178, 186, 263, 297, 317]\n",
    "system_fonts = [font for i, font in enumerate(system_fonts) if i not in indexes_to_remove]"
   ]
  },
  {
   "cell_type": "code",
   "execution_count": null,
   "metadata": {},
   "outputs": [],
   "source": [
    "from functions import (\n",
    "    create_blank_pdf,\n",
    "    find_optimal_placement,\n",
    "    can_place_image,\n",
    "    save_pdf, \n",
    "    place_image_in_pdf,\n",
    "    create_text_image,\n",
    "    get_all_image_bounding_boxes,\n",
    "    test_image_placement,\n",
    "    is_overlapping,\n",
    "    append_image_to_pdf,\n",
    "    random_augment\n",
    ")"
   ]
  },
  {
   "cell_type": "code",
   "execution_count": null,
   "metadata": {},
   "outputs": [],
   "source": [
    "import random\n",
    "import numpy as np\n",
    "from reportlab.lib.pagesizes import letter\n",
    "\n",
    "width, height = int(letter[0]), int(letter[1])\n",
    "\n",
    "text = \"This is sample text for our PDF\"\n",
    "words_per_line = np.random.binomial(n=10, p=0.5, size=1)[0]+3\n",
    "font_path = random.choice(system_fonts)\n",
    "font_size = np.random.binomial(n=25,p=0.5,size=1)[0]+1\n",
    "img, img_info = create_text_image(text, words_per_line=words_per_line, font_path=font_path, font_size=font_size)\n",
    "img = random_augment(img)\n",
    "pdf_path = \"output.pdf\"\n",
    "canvas_obj, (page_width, page_height) = create_blank_pdf(pdf_path)\n",
    "x_center, y_center = page_width/2, page_height/2\n",
    "existing_boxes = []\n",
    "if can_place_image(img, x_center, y_center, existing_boxes, page_width, page_height):\n",
    "    place_image_in_pdf(canvas_obj, img, x_center, y_center)\n",
    "else:\n",
    "    position = find_optimal_placement(img, existing_boxes, page_width, page_height)\n",
    "    if position:\n",
    "        x_center, y_center = position\n",
    "        place_image_in_pdf(canvas_obj, img, x_center, y_center)\n",
    "    else:\n",
    "        print(\"Cannot place image without overlaps\")"
   ]
  },
  {
   "cell_type": "code",
   "execution_count": 4,
   "metadata": {},
   "outputs": [],
   "source": [
    "new_text = \"Marroons are cool and GPT is fun\"\n",
    "max_retries = 15\n",
    "retry_count = 0\n",
    "new_bbox = None\n",
    "\n",
    "while retry_count < max_retries:\n",
    "    new_words_per_line = np.random.binomial(n=10, p=0.5, size=1)[0]+3\n",
    "    new_font_path = random.choice(system_fonts)\n",
    "    new_font_size = np.random.binomial(n=25,p=0.5,size=1)[0]+1\n",
    "    new_x_centroid = random.randint(0, int(page_width))\n",
    "    new_y_centroid = random.randint(0, int(page_height))\n",
    "    new_text_image, new_text_info = create_text_image(new_text, words_per_line=new_words_per_line, font_path=new_font_path, font_size=new_font_size)\n",
    "    new_text_image = random_augment(new_text_image)\n",
    "    x_center, y_center = page_width/2, page_height/2\n",
    "    existing_boxes = []\n",
    "    if can_place_image(new_text_image, new_x_centroid, new_y_centroid, existing_boxes, page_width, page_height):\n",
    "        place_image_in_pdf(canvas_obj, new_text_image, new_x_centroid, new_y_centroid)\n",
    "        break\n",
    "    else:\n",
    "        position = find_optimal_placement(new_text_image, existing_boxes, page_width, page_height)\n",
    "        if position:\n",
    "            x_center, y_center = position\n",
    "            place_image_in_pdf(canvas_obj, new_text_image, x_center, y_center)\n",
    "            break\n",
    "        else:\n",
    "            print(\"Cannot place image without overlaps\")\n",
    "    print(f\"Overlap detected, retrying... ({retry_count + 1}/{max_retries})\")\n",
    "    retry_count += 1\n",
    "\n",
    "if retry_count == max_retries:\n",
    "    print(\"Failed to place new text without overlap after multiple attempts.\")\n",
    "\n",
    "save_pdf(canvas_obj)"
   ]
  },
  {
   "cell_type": "code",
   "execution_count": null,
   "metadata": {},
   "outputs": [],
   "source": []
  }
 ],
 "metadata": {
  "kernelspec": {
   "display_name": "Python 3",
   "language": "python",
   "name": "python3"
  },
  "language_info": {
   "codemirror_mode": {
    "name": "ipython",
    "version": 3
   },
   "file_extension": ".py",
   "mimetype": "text/x-python",
   "name": "python",
   "nbconvert_exporter": "python",
   "pygments_lexer": "ipython3",
   "version": "3.12.4"
  }
 },
 "nbformat": 4,
 "nbformat_minor": 2
}
