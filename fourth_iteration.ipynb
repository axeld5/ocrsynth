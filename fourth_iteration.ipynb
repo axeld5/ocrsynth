{
 "cells": [
  {
   "cell_type": "code",
   "execution_count": 1,
   "metadata": {},
   "outputs": [],
   "source": [
    "import matplotlib.font_manager\n",
    "\n",
    "system_fonts = matplotlib.font_manager.findSystemFonts(fontpaths=None, fontext='ttf')\n",
    "indexes_to_remove = [17, 34, 44, 166, 174, 175, 178, 186, 263, 297, 317]\n",
    "system_fonts = [font for i, font in enumerate(system_fonts) if i not in indexes_to_remove]"
   ]
  },
  {
   "cell_type": "code",
   "execution_count": 2,
   "metadata": {},
   "outputs": [],
   "source": [
    "from functions import (\n",
    "    create_blank_pdf,\n",
    "    find_optimal_placement,\n",
    "    can_place_image,\n",
    "    save_pdf, \n",
    "    place_image_in_pdf,\n",
    "    create_text_image,\n",
    "    random_augment,\n",
    "    get_all_canvas_bounding_boxes\n",
    ")"
   ]
  },
  {
   "cell_type": "code",
   "execution_count": 3,
   "metadata": {},
   "outputs": [],
   "source": [
    "import random\n",
    "import numpy as np\n",
    "from reportlab.lib.pagesizes import letter\n",
    "\n",
    "width, height = int(letter[0]), int(letter[1])\n",
    "text_list = [\"This is sample text for our PDF\", \"I like GPT and maroons\"]\n"
   ]
  },
  {
   "cell_type": "code",
   "execution_count": null,
   "metadata": {},
   "outputs": [
    {
     "ename": "AttributeError",
     "evalue": "'PDFDocument' object has no attribute 'pages'",
     "output_type": "error",
     "traceback": [
      "\u001b[1;31m---------------------------------------------------------------------------\u001b[0m",
      "\u001b[1;31mAttributeError\u001b[0m                            Traceback (most recent call last)",
      "Cell \u001b[1;32mIn[4], line 17\u001b[0m\n\u001b[0;32m     15\u001b[0m x_centroid \u001b[38;5;241m=\u001b[39m random\u001b[38;5;241m.\u001b[39mrandint(\u001b[38;5;241m0\u001b[39m, width)\n\u001b[0;32m     16\u001b[0m y_centroid \u001b[38;5;241m=\u001b[39m random\u001b[38;5;241m.\u001b[39mrandint(\u001b[38;5;241m0\u001b[39m, height)\n\u001b[1;32m---> 17\u001b[0m existing_boxes \u001b[38;5;241m=\u001b[39m \u001b[43mget_all_canvas_bounding_boxes\u001b[49m\u001b[43m(\u001b[49m\u001b[43mcanvas_obj\u001b[49m\u001b[43m)\u001b[49m\n\u001b[0;32m     18\u001b[0m \u001b[38;5;66;03m#existing_boxes = []\u001b[39;00m\n\u001b[0;32m     19\u001b[0m \u001b[38;5;28;01mif\u001b[39;00m can_place_image(img, x_centroid, y_centroid, existing_boxes, page_width, page_height):\n",
      "File \u001b[1;32mc:\\Users\\axeld\\Desktop\\nueva_work\\ocrword_bench\\functions.py:268\u001b[0m, in \u001b[0;36mget_all_canvas_bounding_boxes\u001b[1;34m(canvas_obj)\u001b[0m\n\u001b[0;32m    265\u001b[0m pdf_doc \u001b[38;5;241m=\u001b[39m canvas_obj\u001b[38;5;241m.\u001b[39m_doc\n\u001b[0;32m    267\u001b[0m \u001b[38;5;66;03m# Get the current page\u001b[39;00m\n\u001b[1;32m--> 268\u001b[0m \u001b[38;5;28;01mif\u001b[39;00m \u001b[38;5;129;01mnot\u001b[39;00m \u001b[43mpdf_doc\u001b[49m\u001b[38;5;241;43m.\u001b[39;49m\u001b[43mpages\u001b[49m:\n\u001b[0;32m    269\u001b[0m     \u001b[38;5;28;01mreturn\u001b[39;00m []\n\u001b[0;32m    271\u001b[0m current_page \u001b[38;5;241m=\u001b[39m pdf_doc\u001b[38;5;241m.\u001b[39mpages[\u001b[38;5;241m-\u001b[39m\u001b[38;5;241m1\u001b[39m]  \u001b[38;5;66;03m# Most recent page\u001b[39;00m\n",
      "\u001b[1;31mAttributeError\u001b[0m: 'PDFDocument' object has no attribute 'pages'"
     ]
    }
   ],
   "source": [
    "cnt = 0\n",
    "change_page = True\n",
    "existing_boxes = []\n",
    "while text_list:\n",
    "    if change_page:\n",
    "        pdf_path = f\"ocr_{cnt}.pdf\"\n",
    "        canvas_obj, (page_width, page_height) = create_blank_pdf(pdf_path)\n",
    "        change_page = False\n",
    "    text = text_list[0]\n",
    "    for _ in range(15):\n",
    "        words_per_line = np.random.binomial(n=10, p=0.5, size=1)[0]+3\n",
    "        font_path = random.choice(system_fonts)\n",
    "        font_size = np.random.binomial(n=25,p=0.5,size=1)[0]+1\n",
    "        img, img_info = create_text_image(text, words_per_line=words_per_line, font_path=font_path, font_size=font_size)\n",
    "        img = random_augment(img)\n",
    "        x_centroid = random.randint(0, width)\n",
    "        y_centroid = random.randint(0, height)\n",
    "        if can_place_image(img, x_centroid, y_centroid, existing_boxes, page_width, page_height):\n",
    "            new_box = place_image_in_pdf(canvas_obj, img, x_centroid, y_centroid)\n",
    "            existing_boxes.append(new_box)\n",
    "            text_list.remove(text)\n",
    "            break\n",
    "        else:\n",
    "            position = find_optimal_placement(img, existing_boxes, page_width, page_height)\n",
    "            if position:\n",
    "                x_center, y_center = position\n",
    "                new_box = place_image_in_pdf(canvas_obj, img, x_center, y_center)\n",
    "                existing_boxes.append(new_box)\n",
    "                text_list.remove(text)\n",
    "                break\n",
    "            else:\n",
    "                print(\"Cannot place image without overlaps\")\n",
    "                save_pdf(canvas_obj)\n",
    "                cnt += 1\n",
    "                change_page = True\n",
    "                existing_boxes = []\n",
    "save_pdf(canvas_obj)\n"
   ]
  },
  {
   "cell_type": "code",
   "execution_count": null,
   "metadata": {},
   "outputs": [],
   "source": []
  }
 ],
 "metadata": {
  "kernelspec": {
   "display_name": "Python 3",
   "language": "python",
   "name": "python3"
  },
  "language_info": {
   "codemirror_mode": {
    "name": "ipython",
    "version": 3
   },
   "file_extension": ".py",
   "mimetype": "text/x-python",
   "name": "python",
   "nbconvert_exporter": "python",
   "pygments_lexer": "ipython3",
   "version": "3.12.4"
  }
 },
 "nbformat": 4,
 "nbformat_minor": 2
}
